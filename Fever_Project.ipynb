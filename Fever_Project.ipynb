{
 "cells": [
  {
   "cell_type": "code",
   "execution_count": 1,
   "metadata": {},
   "outputs": [],
   "source": [
    "import numpy as np\n",
    "import pandas as pd\n",
    "import seaborn as sns\n",
    "from statsmodels.formula.api import ols\n",
    "from statsmodels.stats.anova import _get_covariance,anova_lm\n",
    "%matplotlib inline"
   ]
  },
  {
   "cell_type": "markdown",
   "metadata": {},
   "source": [
    "# Fever\n",
    "\n",
    "## Problem Statement:\n",
    "A wholesale distributor operating in different regions of Portugal has information on annual spending of several items in their stores across different regions and channels. The data consists of 440 large retailers’ annual spending on 6 different varieties of products in 3 different regions (Lisbon, Oporto, Other) and across different sales channel (Hotel, Retail)."
   ]
  },
  {
   "cell_type": "code",
   "execution_count": 2,
   "metadata": {},
   "outputs": [],
   "source": [
    "# Importing data from CSV\n",
    "fever_df = pd.read_csv('Fever.csv')"
   ]
  },
  {
   "cell_type": "markdown",
   "metadata": {},
   "source": [
    "## Descriptive Analytics\n",
    "-----"
   ]
  },
  {
   "cell_type": "code",
   "execution_count": 3,
   "metadata": {},
   "outputs": [
    {
     "data": {
      "text/html": [
       "<div>\n",
       "<style scoped>\n",
       "    .dataframe tbody tr th:only-of-type {\n",
       "        vertical-align: middle;\n",
       "    }\n",
       "\n",
       "    .dataframe tbody tr th {\n",
       "        vertical-align: top;\n",
       "    }\n",
       "\n",
       "    .dataframe thead th {\n",
       "        text-align: right;\n",
       "    }\n",
       "</style>\n",
       "<table border=\"1\" class=\"dataframe\">\n",
       "  <thead>\n",
       "    <tr style=\"text-align: right;\">\n",
       "      <th></th>\n",
       "      <th>A</th>\n",
       "      <th>B</th>\n",
       "      <th>Volunteer</th>\n",
       "      <th>Relief</th>\n",
       "    </tr>\n",
       "  </thead>\n",
       "  <tbody>\n",
       "    <tr>\n",
       "      <th>0</th>\n",
       "      <td>1</td>\n",
       "      <td>1</td>\n",
       "      <td>1</td>\n",
       "      <td>2.4</td>\n",
       "    </tr>\n",
       "    <tr>\n",
       "      <th>1</th>\n",
       "      <td>1</td>\n",
       "      <td>1</td>\n",
       "      <td>2</td>\n",
       "      <td>2.7</td>\n",
       "    </tr>\n",
       "    <tr>\n",
       "      <th>2</th>\n",
       "      <td>1</td>\n",
       "      <td>1</td>\n",
       "      <td>3</td>\n",
       "      <td>2.3</td>\n",
       "    </tr>\n",
       "    <tr>\n",
       "      <th>3</th>\n",
       "      <td>1</td>\n",
       "      <td>1</td>\n",
       "      <td>4</td>\n",
       "      <td>2.5</td>\n",
       "    </tr>\n",
       "    <tr>\n",
       "      <th>4</th>\n",
       "      <td>1</td>\n",
       "      <td>2</td>\n",
       "      <td>1</td>\n",
       "      <td>4.6</td>\n",
       "    </tr>\n",
       "    <tr>\n",
       "      <th>5</th>\n",
       "      <td>1</td>\n",
       "      <td>2</td>\n",
       "      <td>2</td>\n",
       "      <td>4.2</td>\n",
       "    </tr>\n",
       "    <tr>\n",
       "      <th>6</th>\n",
       "      <td>1</td>\n",
       "      <td>2</td>\n",
       "      <td>3</td>\n",
       "      <td>4.9</td>\n",
       "    </tr>\n",
       "    <tr>\n",
       "      <th>7</th>\n",
       "      <td>1</td>\n",
       "      <td>2</td>\n",
       "      <td>4</td>\n",
       "      <td>4.7</td>\n",
       "    </tr>\n",
       "    <tr>\n",
       "      <th>8</th>\n",
       "      <td>1</td>\n",
       "      <td>3</td>\n",
       "      <td>1</td>\n",
       "      <td>4.8</td>\n",
       "    </tr>\n",
       "    <tr>\n",
       "      <th>9</th>\n",
       "      <td>1</td>\n",
       "      <td>3</td>\n",
       "      <td>2</td>\n",
       "      <td>4.5</td>\n",
       "    </tr>\n",
       "    <tr>\n",
       "      <th>10</th>\n",
       "      <td>1</td>\n",
       "      <td>3</td>\n",
       "      <td>3</td>\n",
       "      <td>4.4</td>\n",
       "    </tr>\n",
       "    <tr>\n",
       "      <th>11</th>\n",
       "      <td>1</td>\n",
       "      <td>3</td>\n",
       "      <td>4</td>\n",
       "      <td>4.6</td>\n",
       "    </tr>\n",
       "    <tr>\n",
       "      <th>12</th>\n",
       "      <td>2</td>\n",
       "      <td>1</td>\n",
       "      <td>1</td>\n",
       "      <td>5.8</td>\n",
       "    </tr>\n",
       "    <tr>\n",
       "      <th>13</th>\n",
       "      <td>2</td>\n",
       "      <td>1</td>\n",
       "      <td>2</td>\n",
       "      <td>5.2</td>\n",
       "    </tr>\n",
       "    <tr>\n",
       "      <th>14</th>\n",
       "      <td>2</td>\n",
       "      <td>1</td>\n",
       "      <td>3</td>\n",
       "      <td>5.5</td>\n",
       "    </tr>\n",
       "    <tr>\n",
       "      <th>15</th>\n",
       "      <td>2</td>\n",
       "      <td>1</td>\n",
       "      <td>4</td>\n",
       "      <td>5.3</td>\n",
       "    </tr>\n",
       "    <tr>\n",
       "      <th>16</th>\n",
       "      <td>2</td>\n",
       "      <td>2</td>\n",
       "      <td>1</td>\n",
       "      <td>8.9</td>\n",
       "    </tr>\n",
       "    <tr>\n",
       "      <th>17</th>\n",
       "      <td>2</td>\n",
       "      <td>2</td>\n",
       "      <td>2</td>\n",
       "      <td>9.1</td>\n",
       "    </tr>\n",
       "    <tr>\n",
       "      <th>18</th>\n",
       "      <td>2</td>\n",
       "      <td>2</td>\n",
       "      <td>3</td>\n",
       "      <td>8.7</td>\n",
       "    </tr>\n",
       "    <tr>\n",
       "      <th>19</th>\n",
       "      <td>2</td>\n",
       "      <td>2</td>\n",
       "      <td>4</td>\n",
       "      <td>9.0</td>\n",
       "    </tr>\n",
       "    <tr>\n",
       "      <th>20</th>\n",
       "      <td>2</td>\n",
       "      <td>3</td>\n",
       "      <td>1</td>\n",
       "      <td>9.1</td>\n",
       "    </tr>\n",
       "    <tr>\n",
       "      <th>21</th>\n",
       "      <td>2</td>\n",
       "      <td>3</td>\n",
       "      <td>2</td>\n",
       "      <td>9.3</td>\n",
       "    </tr>\n",
       "    <tr>\n",
       "      <th>22</th>\n",
       "      <td>2</td>\n",
       "      <td>3</td>\n",
       "      <td>3</td>\n",
       "      <td>8.7</td>\n",
       "    </tr>\n",
       "    <tr>\n",
       "      <th>23</th>\n",
       "      <td>2</td>\n",
       "      <td>3</td>\n",
       "      <td>4</td>\n",
       "      <td>9.4</td>\n",
       "    </tr>\n",
       "    <tr>\n",
       "      <th>24</th>\n",
       "      <td>3</td>\n",
       "      <td>1</td>\n",
       "      <td>1</td>\n",
       "      <td>6.1</td>\n",
       "    </tr>\n",
       "    <tr>\n",
       "      <th>25</th>\n",
       "      <td>3</td>\n",
       "      <td>1</td>\n",
       "      <td>2</td>\n",
       "      <td>5.7</td>\n",
       "    </tr>\n",
       "    <tr>\n",
       "      <th>26</th>\n",
       "      <td>3</td>\n",
       "      <td>1</td>\n",
       "      <td>3</td>\n",
       "      <td>5.9</td>\n",
       "    </tr>\n",
       "    <tr>\n",
       "      <th>27</th>\n",
       "      <td>3</td>\n",
       "      <td>1</td>\n",
       "      <td>4</td>\n",
       "      <td>6.2</td>\n",
       "    </tr>\n",
       "    <tr>\n",
       "      <th>28</th>\n",
       "      <td>3</td>\n",
       "      <td>2</td>\n",
       "      <td>1</td>\n",
       "      <td>9.9</td>\n",
       "    </tr>\n",
       "    <tr>\n",
       "      <th>29</th>\n",
       "      <td>3</td>\n",
       "      <td>2</td>\n",
       "      <td>2</td>\n",
       "      <td>10.5</td>\n",
       "    </tr>\n",
       "    <tr>\n",
       "      <th>30</th>\n",
       "      <td>3</td>\n",
       "      <td>2</td>\n",
       "      <td>3</td>\n",
       "      <td>10.6</td>\n",
       "    </tr>\n",
       "    <tr>\n",
       "      <th>31</th>\n",
       "      <td>3</td>\n",
       "      <td>2</td>\n",
       "      <td>4</td>\n",
       "      <td>10.1</td>\n",
       "    </tr>\n",
       "    <tr>\n",
       "      <th>32</th>\n",
       "      <td>3</td>\n",
       "      <td>3</td>\n",
       "      <td>1</td>\n",
       "      <td>13.5</td>\n",
       "    </tr>\n",
       "    <tr>\n",
       "      <th>33</th>\n",
       "      <td>3</td>\n",
       "      <td>3</td>\n",
       "      <td>2</td>\n",
       "      <td>13.0</td>\n",
       "    </tr>\n",
       "    <tr>\n",
       "      <th>34</th>\n",
       "      <td>3</td>\n",
       "      <td>3</td>\n",
       "      <td>3</td>\n",
       "      <td>13.3</td>\n",
       "    </tr>\n",
       "    <tr>\n",
       "      <th>35</th>\n",
       "      <td>3</td>\n",
       "      <td>3</td>\n",
       "      <td>4</td>\n",
       "      <td>13.2</td>\n",
       "    </tr>\n",
       "  </tbody>\n",
       "</table>\n",
       "</div>"
      ],
      "text/plain": [
       "    A  B  Volunteer  Relief\n",
       "0   1  1          1     2.4\n",
       "1   1  1          2     2.7\n",
       "2   1  1          3     2.3\n",
       "3   1  1          4     2.5\n",
       "4   1  2          1     4.6\n",
       "5   1  2          2     4.2\n",
       "6   1  2          3     4.9\n",
       "7   1  2          4     4.7\n",
       "8   1  3          1     4.8\n",
       "9   1  3          2     4.5\n",
       "10  1  3          3     4.4\n",
       "11  1  3          4     4.6\n",
       "12  2  1          1     5.8\n",
       "13  2  1          2     5.2\n",
       "14  2  1          3     5.5\n",
       "15  2  1          4     5.3\n",
       "16  2  2          1     8.9\n",
       "17  2  2          2     9.1\n",
       "18  2  2          3     8.7\n",
       "19  2  2          4     9.0\n",
       "20  2  3          1     9.1\n",
       "21  2  3          2     9.3\n",
       "22  2  3          3     8.7\n",
       "23  2  3          4     9.4\n",
       "24  3  1          1     6.1\n",
       "25  3  1          2     5.7\n",
       "26  3  1          3     5.9\n",
       "27  3  1          4     6.2\n",
       "28  3  2          1     9.9\n",
       "29  3  2          2    10.5\n",
       "30  3  2          3    10.6\n",
       "31  3  2          4    10.1\n",
       "32  3  3          1    13.5\n",
       "33  3  3          2    13.0\n",
       "34  3  3          3    13.3\n",
       "35  3  3          4    13.2"
      ]
     },
     "execution_count": 3,
     "metadata": {},
     "output_type": "execute_result"
    }
   ],
   "source": [
    "# Check if data is imported properly\n",
    "fever_df"
   ]
  },
  {
   "cell_type": "code",
   "execution_count": 4,
   "metadata": {},
   "outputs": [
    {
     "data": {
      "text/html": [
       "<div>\n",
       "<style scoped>\n",
       "    .dataframe tbody tr th:only-of-type {\n",
       "        vertical-align: middle;\n",
       "    }\n",
       "\n",
       "    .dataframe tbody tr th {\n",
       "        vertical-align: top;\n",
       "    }\n",
       "\n",
       "    .dataframe thead th {\n",
       "        text-align: right;\n",
       "    }\n",
       "</style>\n",
       "<table border=\"1\" class=\"dataframe\">\n",
       "  <thead>\n",
       "    <tr style=\"text-align: right;\">\n",
       "      <th></th>\n",
       "      <th>A</th>\n",
       "      <th>B</th>\n",
       "      <th>Volunteer</th>\n",
       "      <th>Relief</th>\n",
       "    </tr>\n",
       "  </thead>\n",
       "  <tbody>\n",
       "    <tr>\n",
       "      <th>0</th>\n",
       "      <td>1</td>\n",
       "      <td>1</td>\n",
       "      <td>1</td>\n",
       "      <td>2.4</td>\n",
       "    </tr>\n",
       "    <tr>\n",
       "      <th>1</th>\n",
       "      <td>1</td>\n",
       "      <td>1</td>\n",
       "      <td>2</td>\n",
       "      <td>2.7</td>\n",
       "    </tr>\n",
       "    <tr>\n",
       "      <th>2</th>\n",
       "      <td>1</td>\n",
       "      <td>1</td>\n",
       "      <td>3</td>\n",
       "      <td>2.3</td>\n",
       "    </tr>\n",
       "    <tr>\n",
       "      <th>3</th>\n",
       "      <td>1</td>\n",
       "      <td>1</td>\n",
       "      <td>4</td>\n",
       "      <td>2.5</td>\n",
       "    </tr>\n",
       "    <tr>\n",
       "      <th>4</th>\n",
       "      <td>1</td>\n",
       "      <td>2</td>\n",
       "      <td>1</td>\n",
       "      <td>4.6</td>\n",
       "    </tr>\n",
       "  </tbody>\n",
       "</table>\n",
       "</div>"
      ],
      "text/plain": [
       "   A  B  Volunteer  Relief\n",
       "0  1  1          1     2.4\n",
       "1  1  1          2     2.7\n",
       "2  1  1          3     2.3\n",
       "3  1  1          4     2.5\n",
       "4  1  2          1     4.6"
      ]
     },
     "execution_count": 4,
     "metadata": {},
     "output_type": "execute_result"
    }
   ],
   "source": [
    "# Checking the first 10 entries\n",
    "fever_df.head()"
   ]
  },
  {
   "cell_type": "code",
   "execution_count": 5,
   "metadata": {},
   "outputs": [
    {
     "data": {
      "text/plain": [
       "(36, 4)"
      ]
     },
     "execution_count": 5,
     "metadata": {},
     "output_type": "execute_result"
    }
   ],
   "source": [
    "# Finding the total number of rows and columns in the data\n",
    "fever_df.shape"
   ]
  },
  {
   "cell_type": "code",
   "execution_count": 6,
   "metadata": {},
   "outputs": [
    {
     "name": "stdout",
     "output_type": "stream",
     "text": [
      "<class 'pandas.core.frame.DataFrame'>\n",
      "RangeIndex: 36 entries, 0 to 35\n",
      "Data columns (total 4 columns):\n",
      " #   Column     Non-Null Count  Dtype  \n",
      "---  ------     --------------  -----  \n",
      " 0   A          36 non-null     int64  \n",
      " 1   B          36 non-null     int64  \n",
      " 2   Volunteer  36 non-null     int64  \n",
      " 3   Relief     36 non-null     float64\n",
      "dtypes: float64(1), int64(3)\n",
      "memory usage: 1.2 KB\n"
     ]
    }
   ],
   "source": [
    "# Finding the number of missing values and the data types of the variables\n",
    "fever_df.info()"
   ]
  },
  {
   "cell_type": "code",
   "execution_count": 7,
   "metadata": {},
   "outputs": [],
   "source": [
    "# Since A and B are categorical variables and mentioned as int we convert them to Categorical\n",
    "fever_df['A'] = pd.Categorical(fever_df['A'])\n",
    "fever_df['B'] = pd.Categorical(fever_df['B'])"
   ]
  },
  {
   "cell_type": "code",
   "execution_count": 8,
   "metadata": {},
   "outputs": [
    {
     "data": {
      "text/html": [
       "<div>\n",
       "<style scoped>\n",
       "    .dataframe tbody tr th:only-of-type {\n",
       "        vertical-align: middle;\n",
       "    }\n",
       "\n",
       "    .dataframe tbody tr th {\n",
       "        vertical-align: top;\n",
       "    }\n",
       "\n",
       "    .dataframe thead th {\n",
       "        text-align: right;\n",
       "    }\n",
       "</style>\n",
       "<table border=\"1\" class=\"dataframe\">\n",
       "  <thead>\n",
       "    <tr style=\"text-align: right;\">\n",
       "      <th></th>\n",
       "      <th>count</th>\n",
       "      <th>unique</th>\n",
       "      <th>top</th>\n",
       "      <th>freq</th>\n",
       "    </tr>\n",
       "  </thead>\n",
       "  <tbody>\n",
       "    <tr>\n",
       "      <th>A</th>\n",
       "      <td>36</td>\n",
       "      <td>3</td>\n",
       "      <td>3</td>\n",
       "      <td>12</td>\n",
       "    </tr>\n",
       "    <tr>\n",
       "      <th>B</th>\n",
       "      <td>36</td>\n",
       "      <td>3</td>\n",
       "      <td>3</td>\n",
       "      <td>12</td>\n",
       "    </tr>\n",
       "  </tbody>\n",
       "</table>\n",
       "</div>"
      ],
      "text/plain": [
       "   count  unique  top  freq\n",
       "A     36       3    3    12\n",
       "B     36       3    3    12"
      ]
     },
     "execution_count": 8,
     "metadata": {},
     "output_type": "execute_result"
    }
   ],
   "source": [
    "# Finding the details for the categorical variables A and B\n",
    "fever_df.describe(include='category').T"
   ]
  },
  {
   "cell_type": "code",
   "execution_count": 9,
   "metadata": {},
   "outputs": [
    {
     "data": {
      "text/plain": [
       "3    12\n",
       "2    12\n",
       "1    12\n",
       "Name: A, dtype: int64"
      ]
     },
     "execution_count": 9,
     "metadata": {},
     "output_type": "execute_result"
    }
   ],
   "source": [
    "# Finding unique entries and their counts for A and B\n",
    "fever_df['A'].value_counts()"
   ]
  },
  {
   "cell_type": "code",
   "execution_count": 10,
   "metadata": {},
   "outputs": [
    {
     "data": {
      "text/plain": [
       "3    12\n",
       "2    12\n",
       "1    12\n",
       "Name: B, dtype: int64"
      ]
     },
     "execution_count": 10,
     "metadata": {},
     "output_type": "execute_result"
    }
   ],
   "source": [
    "fever_df['B'].value_counts()"
   ]
  },
  {
   "cell_type": "code",
   "execution_count": 11,
   "metadata": {},
   "outputs": [
    {
     "name": "stdout",
     "output_type": "stream",
     "text": [
      "<class 'pandas.core.frame.DataFrame'>\n",
      "RangeIndex: 36 entries, 0 to 35\n",
      "Data columns (total 4 columns):\n",
      " #   Column     Non-Null Count  Dtype   \n",
      "---  ------     --------------  -----   \n",
      " 0   A          36 non-null     category\n",
      " 1   B          36 non-null     category\n",
      " 2   Volunteer  36 non-null     int64   \n",
      " 3   Relief     36 non-null     float64 \n",
      "dtypes: category(2), float64(1), int64(1)\n",
      "memory usage: 984.0 bytes\n"
     ]
    }
   ],
   "source": [
    "# Re check if data type is converted\n",
    "fever_df.info()"
   ]
  },
  {
   "cell_type": "code",
   "execution_count": 12,
   "metadata": {},
   "outputs": [
    {
     "data": {
      "text/plain": [
       "count    36.000000\n",
       "mean      7.183333\n",
       "std       3.272090\n",
       "min       2.300000\n",
       "25%       4.675000\n",
       "50%       6.000000\n",
       "75%       9.325000\n",
       "max      13.500000\n",
       "Name: Relief, dtype: float64"
      ]
     },
     "execution_count": 12,
     "metadata": {},
     "output_type": "execute_result"
    }
   ],
   "source": [
    "# Finding the details for Relief variable\n",
    "fever_df['Relief'].describe()"
   ]
  },
  {
   "cell_type": "code",
   "execution_count": 13,
   "metadata": {},
   "outputs": [
    {
     "data": {
      "text/plain": [
       "<matplotlib.axes._subplots.AxesSubplot at 0x7ff1b8685350>"
      ]
     },
     "execution_count": 13,
     "metadata": {},
     "output_type": "execute_result"
    },
    {
     "data": {
      "image/png": "[encoded data removed]",
      "text/plain": [
       "<Figure size 432x288 with 1 Axes>"
      ]
     },
     "metadata": {
      "needs_background": "light"
     },
     "output_type": "display_data"
    }
   ],
   "source": [
    "# Finding the distribution of Relief variable\n",
    "sns.distplot(fever_df['Relief'], hist=False)"
   ]
  },
  {
   "cell_type": "code",
   "execution_count": 14,
   "metadata": {},
   "outputs": [
    {
     "data": {
      "text/plain": [
       "<matplotlib.axes._subplots.AxesSubplot at 0x7ff1b87c0d10>"
      ]
     },
     "execution_count": 14,
     "metadata": {},
     "output_type": "execute_result"
    },
    {
     "data": {
      "image/png": "[encoded data removed]",
      "text/plain": [
       "<Figure size 432x288 with 1 Axes>"
      ]
     },
     "metadata": {
      "needs_background": "light"
     },
     "output_type": "display_data"
    }
   ],
   "source": [
    "# Looking for outliers\n",
    "sns.boxplot(fever_df['Relief'])"
   ]
  },
  {
   "attachments": {
    "image.png": {
     "image/png": "[encoded data removed]"
    }
   },
   "cell_type": "markdown",
   "metadata": {},
   "source": [
    "### Findings:\n",
    "1. Column headers are 'A', 'B', 'Volunteer' and 'Relief'\n",
    "2. There are 36 entries (rows) and 4 variables (columns)\n",
    "3. The data types of the variables are:![image.png](attachment:image.png)\n",
    "4. There are no missing values\n",
    "5. A and B variables have 3 categories each with 12 observations in each of the categories\n",
    "6. The variable Relief is slightly right skewed\n",
    "7. There are no outliers in the Relief variable\n",
    "\n",
    "# --------------------------------------------------------------------------"
   ]
  },
  {
   "cell_type": "markdown",
   "metadata": {},
   "source": [
    "### Question 1:\n",
    "\n",
    "State the Null and Alternate Hypothesis for conducting one-way ANOVA for both the variables ‘A’ and ‘B’ individually."
   ]
  },
  {
   "cell_type": "markdown",
   "metadata": {},
   "source": [
    "The Hypothesis for Compund A:\n",
    "* $H_0$: $\\mu_{A1} $ = $\\mu_{A2}$ = $\\mu_{A3}$  (The means of fever for each of the level in compound A are equal)\n",
    "* $H_a$: $\\mu_{A1} $ = $\\mu_{A2}$ $\\neq$ $\\mu_{A3}$ or $\\mu_{A1} $ $\\neq$ $\\mu_{A2}$ $\\neq$ $\\mu_{A3}$ or $\\mu_{A1} $ $\\neq$ $\\mu_{A2}$ = $\\mu_{A3}$ (There is at least one level has a mean different compared to the other two in compound A)\n",
    "\n",
    "The Hypothesis for Compund B:\n",
    "* $H_0$: $\\mu_{B1} $ = $\\mu_{B2}$ = $\\mu_{B3}$  (The means of fever for each of the level in compound A are equal)\n",
    "* $H_b$: $\\mu_{B1} $ = $\\mu_{B2}$ $\\neq$ $\\mu_{B3}$ or $\\mu_{B1} $ $\\neq$ $\\mu_{B2}$ $\\neq$ $\\mu_{B3}$ or $\\mu_{B1} $ $\\neq$ $\\mu_{B2}$ = $\\mu_{B3}$ (There is at least one level has a mean different compared to the other two in compound A)\n",
    "\n",
    "# ------------------------------------------------------------------------"
   ]
  },
  {
   "cell_type": "markdown",
   "metadata": {},
   "source": [
    "### Question 2:\n",
    "\n",
    "Perform one-way ANOVA for variable ‘A’ with respect to the variable ‘Relief’. State whether the Null Hypothesis is accepted or rejected based on the ANOVA results."
   ]
  },
  {
   "cell_type": "markdown",
   "metadata": {},
   "source": [
    "The Hypothesis for Compund A:\n",
    "* $H_0$: $\\mu_{A1} $ = $\\mu_{A2}$ = $\\mu_{A3}$  (The means of fever for each of the level in compound A are equal)\n",
    "* $H_a$: $\\mu_{A1} $ = $\\mu_{A2}$ $\\neq$ $\\mu_{A3}$ or $\\mu_{A1} $ $\\neq$ $\\mu_{A2}$ $\\neq$ $\\mu_{A3}$ or $\\mu_{A1} $ $\\neq$ $\\mu_{A2}$ = $\\mu_{A3}$ (There is at least one level has a mean different compared to the other two in compound A)"
   ]
  },
  {
   "cell_type": "code",
   "execution_count": 15,
   "metadata": {},
   "outputs": [
    {
     "data": {
      "text/html": [
       "<div>\n",
       "<style scoped>\n",
       "    .dataframe tbody tr th:only-of-type {\n",
       "        vertical-align: middle;\n",
       "    }\n",
       "\n",
       "    .dataframe tbody tr th {\n",
       "        vertical-align: top;\n",
       "    }\n",
       "\n",
       "    .dataframe thead th {\n",
       "        text-align: right;\n",
       "    }\n",
       "</style>\n",
       "<table border=\"1\" class=\"dataframe\">\n",
       "  <thead>\n",
       "    <tr style=\"text-align: right;\">\n",
       "      <th></th>\n",
       "      <th>df</th>\n",
       "      <th>sum_sq</th>\n",
       "      <th>mean_sq</th>\n",
       "      <th>F</th>\n",
       "      <th>PR(&gt;F)</th>\n",
       "    </tr>\n",
       "  </thead>\n",
       "  <tbody>\n",
       "    <tr>\n",
       "      <th>C(A)</th>\n",
       "      <td>2.0</td>\n",
       "      <td>220.02</td>\n",
       "      <td>110.010000</td>\n",
       "      <td>23.465387</td>\n",
       "      <td>4.578242e-07</td>\n",
       "    </tr>\n",
       "    <tr>\n",
       "      <th>Residual</th>\n",
       "      <td>33.0</td>\n",
       "      <td>154.71</td>\n",
       "      <td>4.688182</td>\n",
       "      <td>NaN</td>\n",
       "      <td>NaN</td>\n",
       "    </tr>\n",
       "  </tbody>\n",
       "</table>\n",
       "</div>"
      ],
      "text/plain": [
       "            df  sum_sq     mean_sq          F        PR(>F)\n",
       "C(A)       2.0  220.02  110.010000  23.465387  4.578242e-07\n",
       "Residual  33.0  154.71    4.688182        NaN           NaN"
      ]
     },
     "execution_count": 15,
     "metadata": {},
     "output_type": "execute_result"
    }
   ],
   "source": [
    "# One way ANOVA for Compound A\n",
    "formula_A = 'Relief ~ C(A)'\n",
    "model_A = ols(formula=formula_A, data=fever_df).fit()\n",
    "one_anova_A = anova_lm(model_A)\n",
    "one_anova_A"
   ]
  },
  {
   "cell_type": "markdown",
   "metadata": {},
   "source": [
    "P=4.578242e-07\n",
    "\n",
    "Since P < 0.05, we can reject the null hypothesis.\n",
    "\n",
    "Considering a confidence ratio of 95% we can say that the means for fever for each amount level of compound A are not equal. \n",
    "\n",
    "Therefore, we can say that the means for each level in compound A are not equal.\n",
    "\n",
    "# ------------------------------------------------------------------------"
   ]
  },
  {
   "cell_type": "markdown",
   "metadata": {},
   "source": [
    "### Question 3:\n",
    "\n",
    "Perform one-way ANOVA for variable ‘A’ with respect to the variable ‘Relief’. State whether the Null Hypothesis is accepted or rejected based on the ANOVA results."
   ]
  },
  {
   "cell_type": "markdown",
   "metadata": {},
   "source": [
    "The Hypothesis for Compund B:\n",
    "* $H_0$: $\\mu_{B1} $ = $\\mu_{B2}$ = $\\mu_{B3}$  (The means of fever for each of the level in compound A are equal)\n",
    "* $H_b$: $\\mu_{B1} $ = $\\mu_{B2}$ $\\neq$ $\\mu_{B3}$ or $\\mu_{B1} $ $\\neq$ $\\mu_{B2}$ $\\neq$ $\\mu_{B3}$ or $\\mu_{B1} $ $\\neq$ $\\mu_{B2}$ = $\\mu_{B3}$ (There is at least one level has a mean different compared to the other two in compound A)"
   ]
  },
  {
   "cell_type": "code",
   "execution_count": 16,
   "metadata": {},
   "outputs": [],
   "source": [
    "# One way ANOVA for Compound B\n",
    "formula_B = 'Relief ~ C(B)'\n",
    "model_B = ols(formula=formula_B, data=fever_df).fit()\n",
    "one_anova_B = anova_lm(model_B)\n",
    "P=one_anova_B"
   ]
  },
  {
   "cell_type": "markdown",
   "metadata": {},
   "source": [
    "P=0.00135\n",
    "\n",
    "Since P < 0.05, we can reject the null hypothesis.\n",
    "\n",
    "Considering a confidence ratio of 95% we can say that the means for fever for each amount level of compound B are not equal.\n",
    "\n",
    "Therefore, we can say that the means for each level in compound B are not equal.\n",
    "# ------------------------------------------------------------------------"
   ]
  },
  {
   "cell_type": "markdown",
   "metadata": {},
   "source": [
    "### Question 4:\n",
    "\n",
    "Analyse the effects of one variable on another with the help of an interaction plot.\n",
    "What is the interaction between the two treatments?\n",
    "[hint: use the ‘pointplot’ function from the ‘seaborn’ function]"
   ]
  },
  {
   "cell_type": "code",
   "execution_count": 17,
   "metadata": {},
   "outputs": [
    {
     "data": {
      "text/plain": [
       "<matplotlib.axes._subplots.AxesSubplot at 0x7ff1b91b0b90>"
      ]
     },
     "execution_count": 17,
     "metadata": {},
     "output_type": "execute_result"
    },
    {
     "data": {
      "image/png": "[encoded data removed]",
      "text/plain": [
       "<Figure size 432x288 with 1 Axes>"
      ]
     },
     "metadata": {
      "needs_background": "light"
     },
     "output_type": "display_data"
    }
   ],
   "source": [
    "# Plotting the point plot without confidence interval\n",
    "sns.pointplot(x=fever_df['A'], y=fever_df['Relief'], hue=fever_df['B'], ci=False)"
   ]
  },
  {
   "cell_type": "markdown",
   "metadata": {},
   "source": [
    "### Findings:\n",
    "\n",
    "1.\tOn overview the order of relief is as follows for both the compounds: 1 < 2 < 3\n",
    "2.\tWith increase in levels in compound A, all levels of compound B increase in relief.\n",
    "3.\tLevels 1 and 2 of compound B, for all levels in compound A, show almost similar behaviour with respect to relief.\n",
    "4.\tLevel 3 of compound B shows the same character till level 2 of compound A but however, after that it continues to increase while the other two levels tend to saturate in relief.\n",
    "5.\tThere is not much interaction between level 1 and 2 across levels in compound A. While level 3 of compound B shows considerable interaction with the remaining 2 levels of compound B.\n",
    "6.\tOverall there is a considerable amount of interaction. We will verify statistically in the next question if this interaction is considerable enough.\n",
    "\n",
    "# ------------------------------------------------------------------------"
   ]
  },
  {
   "cell_type": "markdown",
   "metadata": {},
   "source": [
    "### Question 5:\n",
    "\n",
    "Analyse the effects of one variable on another with the help of an interaction plot.\n",
    "What is the interaction between the two treatments?\n",
    "[hint: use the ‘pointplot’ function from the ‘seaborn’ function]"
   ]
  },
  {
   "cell_type": "markdown",
   "metadata": {},
   "source": [
    "The Hypothesis for compound A:\n",
    "* $H_0$: $\\mu_{A1} $ = $\\mu_{A2}$ = $\\mu_{A3}$  (The means of fever for each of the level in compound A are equal)\n",
    "* $H_a$: $\\mu_{A1} $ = $\\mu_{A2}$ $\\neq$ $\\mu_{A3}$ or $\\mu_{A1} $ $\\neq$ $\\mu_{A2}$ $\\neq$ $\\mu_{A3}$ or $\\mu_{A1} $ $\\neq$ $\\mu_{A2}$ = $\\mu_{A3}$ (There is at least one level has a mean different compared to the other two in compound A)\n",
    "\n",
    "The Hypothesis for Compund B:\n",
    "* $H_0$: $\\mu_{B1} $ = $\\mu_{B2}$ = $\\mu_{B3}$  (The means of fever for each of the level in compound A are equal)\n",
    "* $H_b$: $\\mu_{B1} $ = $\\mu_{B2}$ $\\neq$ $\\mu_{B3}$ or $\\mu_{B1} $ $\\neq$ $\\mu_{B2}$ $\\neq$ $\\mu_{B3}$ or $\\mu_{B1} $ $\\neq$ $\\mu_{B2}$ = $\\mu_{B3}$ (There is at least one level has a mean different compared to the other two in compound A)\n",
    "\n",
    "The hypothesis for interaction betwewn compund A and B:\n",
    "* $H_0$: There is no interaction effect of Compound A and Compound B on Relief.\n",
    "* $H_{A:B}$: There is interaction effect of Compound A and Compound B on Relief."
   ]
  },
  {
   "cell_type": "code",
   "execution_count": 18,
   "metadata": {},
   "outputs": [
    {
     "data": {
      "text/html": [
       "<div>\n",
       "<style scoped>\n",
       "    .dataframe tbody tr th:only-of-type {\n",
       "        vertical-align: middle;\n",
       "    }\n",
       "\n",
       "    .dataframe tbody tr th {\n",
       "        vertical-align: top;\n",
       "    }\n",
       "\n",
       "    .dataframe thead th {\n",
       "        text-align: right;\n",
       "    }\n",
       "</style>\n",
       "<table border=\"1\" class=\"dataframe\">\n",
       "  <thead>\n",
       "    <tr style=\"text-align: right;\">\n",
       "      <th></th>\n",
       "      <th>df</th>\n",
       "      <th>sum_sq</th>\n",
       "      <th>mean_sq</th>\n",
       "      <th>F</th>\n",
       "      <th>PR(&gt;F)</th>\n",
       "    </tr>\n",
       "  </thead>\n",
       "  <tbody>\n",
       "    <tr>\n",
       "      <th>C(A)</th>\n",
       "      <td>2.0</td>\n",
       "      <td>220.020</td>\n",
       "      <td>110.010000</td>\n",
       "      <td>1827.858462</td>\n",
       "      <td>1.514043e-29</td>\n",
       "    </tr>\n",
       "    <tr>\n",
       "      <th>C(B)</th>\n",
       "      <td>2.0</td>\n",
       "      <td>123.660</td>\n",
       "      <td>61.830000</td>\n",
       "      <td>1027.329231</td>\n",
       "      <td>3.348751e-26</td>\n",
       "    </tr>\n",
       "    <tr>\n",
       "      <th>C(A):C(B)</th>\n",
       "      <td>4.0</td>\n",
       "      <td>29.425</td>\n",
       "      <td>7.356250</td>\n",
       "      <td>122.226923</td>\n",
       "      <td>6.972083e-17</td>\n",
       "    </tr>\n",
       "    <tr>\n",
       "      <th>Residual</th>\n",
       "      <td>27.0</td>\n",
       "      <td>1.625</td>\n",
       "      <td>0.060185</td>\n",
       "      <td>NaN</td>\n",
       "      <td>NaN</td>\n",
       "    </tr>\n",
       "  </tbody>\n",
       "</table>\n",
       "</div>"
      ],
      "text/plain": [
       "             df   sum_sq     mean_sq            F        PR(>F)\n",
       "C(A)        2.0  220.020  110.010000  1827.858462  1.514043e-29\n",
       "C(B)        2.0  123.660   61.830000  1027.329231  3.348751e-26\n",
       "C(A):C(B)   4.0   29.425    7.356250   122.226923  6.972083e-17\n",
       "Residual   27.0    1.625    0.060185          NaN           NaN"
      ]
     },
     "execution_count": 18,
     "metadata": {},
     "output_type": "execute_result"
    }
   ],
   "source": [
    "# Two way ANOVA of compound A and compound B with interaction between the 2\n",
    "formula_AB = 'Relief ~ C(A) + C(B) + C(A):C(B)'\n",
    "model_AB = ols(formula=formula_AB, data=fever_df).fit()\n",
    "one_anova_AB = anova_lm(model_AB)\n",
    "one_anova_AB"
   ]
  },
  {
   "cell_type": "markdown",
   "metadata": {},
   "source": [
    "P[C(A)] = 1.514043e-29\n",
    "\n",
    "P[C(B)] = 3.348751e-26\n",
    "\n",
    "P[C(A):C(B)] = 6.972083e-17\n",
    "\n",
    "- Compound A has a significant effect on Relief\n",
    "- Compound B has a significant effect on Relief\n",
    "- At 95% confidence, we can say that there is interaction between the compounds."
   ]
  },
  {
   "cell_type": "code",
   "execution_count": 19,
   "metadata": {},
   "outputs": [
    {
     "data": {
      "text/html": [
       "<div>\n",
       "<style scoped>\n",
       "    .dataframe tbody tr th:only-of-type {\n",
       "        vertical-align: middle;\n",
       "    }\n",
       "\n",
       "    .dataframe tbody tr th {\n",
       "        vertical-align: top;\n",
       "    }\n",
       "\n",
       "    .dataframe thead th {\n",
       "        text-align: right;\n",
       "    }\n",
       "</style>\n",
       "<table border=\"1\" class=\"dataframe\">\n",
       "  <thead>\n",
       "    <tr style=\"text-align: right;\">\n",
       "      <th></th>\n",
       "      <th>df</th>\n",
       "      <th>sum_sq</th>\n",
       "      <th>mean_sq</th>\n",
       "      <th>F</th>\n",
       "      <th>PR(&gt;F)</th>\n",
       "    </tr>\n",
       "  </thead>\n",
       "  <tbody>\n",
       "    <tr>\n",
       "      <th>C(A)</th>\n",
       "      <td>2.0</td>\n",
       "      <td>220.020</td>\n",
       "      <td>110.010000</td>\n",
       "      <td>1827.858462</td>\n",
       "      <td>1.514043e-29</td>\n",
       "    </tr>\n",
       "    <tr>\n",
       "      <th>C(B)</th>\n",
       "      <td>2.0</td>\n",
       "      <td>123.660</td>\n",
       "      <td>61.830000</td>\n",
       "      <td>1027.329231</td>\n",
       "      <td>3.348751e-26</td>\n",
       "    </tr>\n",
       "    <tr>\n",
       "      <th>C(A):C(B)</th>\n",
       "      <td>4.0</td>\n",
       "      <td>29.425</td>\n",
       "      <td>7.356250</td>\n",
       "      <td>122.226923</td>\n",
       "      <td>6.972083e-17</td>\n",
       "    </tr>\n",
       "    <tr>\n",
       "      <th>Residual</th>\n",
       "      <td>27.0</td>\n",
       "      <td>1.625</td>\n",
       "      <td>0.060185</td>\n",
       "      <td>NaN</td>\n",
       "      <td>NaN</td>\n",
       "    </tr>\n",
       "  </tbody>\n",
       "</table>\n",
       "</div>"
      ],
      "text/plain": [
       "             df   sum_sq     mean_sq            F        PR(>F)\n",
       "C(A)        2.0  220.020  110.010000  1827.858462  1.514043e-29\n",
       "C(B)        2.0  123.660   61.830000  1027.329231  3.348751e-26\n",
       "C(A):C(B)   4.0   29.425    7.356250   122.226923  6.972083e-17\n",
       "Residual   27.0    1.625    0.060185          NaN           NaN"
      ]
     },
     "execution_count": 19,
     "metadata": {},
     "output_type": "execute_result"
    }
   ],
   "source": [
    "# Upon adjusting for Type III error (since there is interaction):\n",
    "formula_AB_adj = 'Relief ~ C(A) + C(B) + C(A):C(B)'\n",
    "model_AB_adj = ols(formula=formula_AB_adj, data=fever_df).fit()\n",
    "one_anova_AB_adj = anova_lm(model_AB_adj, type=3)\n",
    "one_anova_AB_adj"
   ]
  },
  {
   "cell_type": "markdown",
   "metadata": {},
   "source": [
    "# ------------------------------------------------------------------------"
   ]
  },
  {
   "cell_type": "markdown",
   "metadata": {},
   "source": [
    "### Question 6:\n",
    "\n",
    "Mention the business implications of performing ANOVA for this particular case study."
   ]
  },
  {
   "cell_type": "markdown",
   "metadata": {},
   "source": [
    "1.\tOn overview the order of relief is as follows for both the compounds: 1 < 2 < 3\n",
    "2.\tWith increase in levels in compound A, all levels of compound B increase in relief.\n",
    "3.\tLevels 1 and 2 of compound B, for all levels in compound A, show almost similar behaviour with respect to relief.\n",
    "4.\tLevel 3 of compound B shows the same character till level 2 of compound A but however, after that it continues to increase while the other two levels tend to saturate in relief.\n",
    "5.\tThere is not much interaction between level 1 and 2 across levels in compound A. While level 3 of compound B shows considerable interaction with the remaining 2 levels of compound B.\n",
    "6.\tOverall there is a considerable amount of interaction. We will verify statistically in the next question if this interaction is considerable enough.\n",
    "7. Compound A has a significant effect on Relief\n",
    "8. Compound B has a significant effect on Relief\n",
    "9. At 95% confidence, we can say that there is interaction between the compounds."
   ]
  },
  {
   "cell_type": "markdown",
   "metadata": {},
   "source": [
    "**Business Implications on this case study are:**\n",
    "-\tThe data collected at each level is equal and the experiment design has been conducted in a fairly random and appropriate manner.\n",
    "-\tCompound A has a comparatively higher effect on the relief compared to compound B.\n",
    "-\tAcross all levels of compound B, relief for level 3 is greater than level 2 than level1 in compound A.\n",
    "-\tAcross all levels of A, levels 1 and 2 of compound B perform similarly. However, level 3 in compound B shows same results as level 2 in compound B until level 2 in compound A but for level 3 in compound A and B there is an abrupt increase in relief.\n",
    "-\tThis abruptly high relief is what may be causing the relief to skew slightly to the right. This needs special attention and more study so as to be proven to be more consistent.\n",
    "-\tIf proven consistent, the combination of Level 3 of compound A and B can be used to give high relief and the combination of Level 1 of compound A and B can be used to give every mild relief. All other combinations provide intermediate relief.\n",
    "\n",
    "# ------------------------------------------------------------------------"
   ]
  }
 ],
 "metadata": {
  "kernelspec": {
   "display_name": "Python 3",
   "language": "python",
   "name": "python3"
  },
  "language_info": {
   "codemirror_mode": {
    "name": "ipython",
    "version": 3
   },
   "file_extension": ".py",
   "mimetype": "text/x-python",
   "name": "python",
   "nbconvert_exporter": "python",
   "pygments_lexer": "ipython3",
   "version": "3.7.6"
  }
 },
 "nbformat": 4,
 "nbformat_minor": 4
}
